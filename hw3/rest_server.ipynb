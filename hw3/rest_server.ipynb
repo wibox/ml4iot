{
 "cells": [
  {
   "cell_type": "code",
   "execution_count": 49,
   "metadata": {},
   "outputs": [],
   "source": [
    "import cherrypy\n",
    "import json\n",
    "import redis\n",
    "import uuid\n",
    "import requests\n",
    "from redis.commands.json.path import Path\n",
    "import time"
   ]
  },
  {
   "cell_type": "code",
   "execution_count": 50,
   "metadata": {},
   "outputs": [
    {
     "name": "stdout",
     "output_type": "stream",
     "text": [
      "Is connected?  True\n"
     ]
    }
   ],
   "source": [
    "publicid = \"redis-15072.c77.eu-west-1-1.ec2.cloud.redislabs.com\"\n",
    "username = \"default\"\n",
    "password = \"53R8YAlL81zAHIEVcPjwjzcnVQoSPhzt\"\n",
    "redis_port = 15072\n",
    "\n",
    "redis_client = redis.Redis(host = publicid, password = password, username = username, port = redis_port)\n",
    "print(\"Is connected? \", redis_client.ping())"
   ]
  },
  {
   "cell_type": "code",
   "execution_count": 51,
   "metadata": {},
   "outputs": [],
   "source": [
    "class Device(object):\n",
    "    exposed = True\n",
    "    \n",
    "    def GET(self):\n",
    "        # response = {'mac_address':[]}\n",
    "        items = []\n",
    "        keys = redis_client.keys(\"*:battery\")\n",
    "        print(len(keys))\n",
    "        for key in keys:\n",
    "            key = key.decode()\n",
    "            items.append(key.split(\":\")[0])\n",
    "\n",
    "        response = {\"mac_address\":items}\n",
    "        \n",
    "        return json.dumps(response)\n",
    "\n",
    "\n",
    "class SpecificDevice:\n",
    "    exposed = True\n",
    "\n",
    "    def GET(self, *path, **query):\n",
    "        mac_address = path[0]\n",
    "        if mac_address == \"\":\n",
    "            raise cherrypy.HTTPError(400, \"Bad requested: missing MAC address\")\n",
    "        else:\n",
    "            items = []\n",
    "            keys = redis_client.keys(\"*:battery\")\n",
    "            for key in keys:\n",
    "                key = key.decode()\n",
    "                items.append(key.split(\":\")[0])\n",
    "            if mac_address not in items:\n",
    "                raise cherrypy.HTTPError(404, \"Not found: invalid MAC address\")\n",
    "\n",
    "        if query['from'] == \"\":\n",
    "            raise cherrypy.HTTPError(400, \"Bad requested: missing start time\")\n",
    "        if query['to'] == \"\":\n",
    "            raise cherrypy.HTTPError(400, \"Bad requested: missing end time\")\n",
    "        battery_levels = redis_client.ts().range(f\"{mac_address}:battery\", int(query['from']), int(query['to']))\n",
    "        power_plugs = redis_client.ts().range(f\"{mac_address}:power\", int(query['from']), int(query['to']))\n",
    "        timestamps = [battery[0] for battery in battery_levels]\n",
    "        battery = [battery[1] for battery in battery_levels]\n",
    "        power = [power_plug[1] for power_plug in power_plugs]\n",
    "        response = {\n",
    "            \"mac_address\":mac_address,\n",
    "            \"timestamps\":timestamps,\n",
    "            \"battery_levels\":battery,\n",
    "            \"power_plugged\":power\n",
    "        }\n",
    "        return json.dumps(response)\n",
    "\n",
    "    def DELETE(self, *path, **query):\n",
    "        mac_address = path[0]\n",
    "        if mac_address == \"\":\n",
    "            raise cherrypy.HTTPError(400, \"Bad requested: missing MAC address\")\n",
    "        else:\n",
    "            items = []\n",
    "            keys = redis_client.keys(\"*:battery\")\n",
    "            for key in keys:\n",
    "                key = key.decode()\n",
    "                items.append(key.split(\":\")[0])\n",
    "            if mac_address not in items:\n",
    "                raise cherrypy.HTTPError(404, \"Not found: invalid MAC address\")\n",
    "\n",
    "        redis_client.delete(f\"{mac_address}:battery\")\n",
    "        redis_client.delete(f\"{mac_address}:power\")"
   ]
  },
  {
   "cell_type": "code",
   "execution_count": 52,
   "metadata": {},
   "outputs": [
    {
     "name": "stderr",
     "output_type": "stream",
     "text": [
      "[17/Jan/2023:11:29:27] ENGINE Bus STARTING\n",
      "[17/Jan/2023:11:29:27] ENGINE Started monitor thread 'Autoreloader'.\n",
      "[17/Jan/2023:11:29:27] ENGINE Serving on http://0.0.0.0:8080\n",
      "[17/Jan/2023:11:29:27] ENGINE Bus STARTED\n"
     ]
    },
    {
     "name": "stdout",
     "output_type": "stream",
     "text": [
      "3\n",
      "127.0.0.1 - - [17/Jan/2023:11:29:28] \"GET /devices HTTP/1.1\" 200 52 \"\" \"vscode-restclient\"\n"
     ]
    },
    {
     "name": "stderr",
     "output_type": "stream",
     "text": [
      "[17/Jan/2023:11:29:36] ENGINE Keyboard Interrupt: shutting down bus\n",
      "[17/Jan/2023:11:29:36] ENGINE Bus STOPPING\n",
      "[17/Jan/2023:11:29:37] ENGINE HTTP Server cherrypy._cpwsgi_server.CPWSGIServer(('0.0.0.0', 8080)) shut down\n",
      "[17/Jan/2023:11:29:37] ENGINE Stopped thread 'Autoreloader'.\n",
      "[17/Jan/2023:11:29:37] ENGINE Bus STOPPED\n",
      "[17/Jan/2023:11:29:37] ENGINE Bus EXITING\n",
      "[17/Jan/2023:11:29:37] ENGINE Bus EXITED\n",
      "[17/Jan/2023:11:29:37] ENGINE Waiting for child threads to terminate...\n"
     ]
    }
   ],
   "source": [
    "if __name__=='__main__':\n",
    "    conf = {'/': {'request.dispatch': cherrypy.dispatch.MethodDispatcher(), 'tools.sessions.on':True}}\n",
    "    cherrypy.tree.mount(Device(), '/devices', conf)\n",
    "    cherrypy.tree.mount(SpecificDevice(), '/device', conf)\n",
    "    cherrypy.config.update({'server.socket_host': '0.0.0.0'})\n",
    "    cherrypy.config.update({'server.socket_port': 8080})\n",
    "    cherrypy.engine.start()\n",
    "    cherrypy.engine.block()"
   ]
  }
 ],
 "metadata": {
  "kernelspec": {
   "display_name": "ml4iotenv",
   "language": "python",
   "name": "python3"
  },
  "language_info": {
   "codemirror_mode": {
    "name": "ipython",
    "version": 3
   },
   "file_extension": ".py",
   "mimetype": "text/x-python",
   "name": "python",
   "nbconvert_exporter": "python",
   "pygments_lexer": "ipython3",
   "version": "3.8.10"
  },
  "orig_nbformat": 4,
  "vscode": {
   "interpreter": {
    "hash": "26573a9fad40d086beb2339af52d84c427e9bce5fee7d856f858bff4ce858c27"
   }
  }
 },
 "nbformat": 4,
 "nbformat_minor": 2
}
