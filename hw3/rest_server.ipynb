{
 "cells": [
  {
   "cell_type": "code",
   "execution_count": 9,
   "metadata": {},
   "outputs": [],
   "source": [
    "import cherrypy\n",
    "import json\n",
    "import redis\n",
    "import uuid\n",
    "import requests\n",
    "from redis.commands.json.path import Path"
   ]
  },
  {
   "cell_type": "code",
   "execution_count": 10,
   "metadata": {},
   "outputs": [
    {
     "name": "stdout",
     "output_type": "stream",
     "text": [
      "Is connected?  True\n"
     ]
    }
   ],
   "source": [
    "publicid = \"redis-15072.c77.eu-west-1-1.ec2.cloud.redislabs.com\"\n",
    "username = \"default\"\n",
    "password = \"53R8YAlL81zAHIEVcPjwjzcnVQoSPhzt\"\n",
    "redis_port = 15072\n",
    "\n",
    "redis_client = redis.Redis(host = publicid, password = password, username = username, port = redis_port)\n",
    "print(\"Is connected? \", redis_client.ping())"
   ]
  },
  {
   "cell_type": "code",
   "execution_count": 11,
   "metadata": {},
   "outputs": [],
   "source": [
    "class Device(object):\n",
    "    exposed = True\n",
    "    \n",
    "    def GET(self):\n",
    "        # response = {'mac_address':[]}\n",
    "        items = []\n",
    "        keys = redis_client.keys(\"*:battery\")\n",
    "        print(len(keys))\n",
    "        for key in keys:\n",
    "            key = key.decode()\n",
    "            #subitem = redis_client.get(key)\n",
    "            #ma = key.removeprefix(\"\")\n",
    "            #item[f\"{key.split(':')[0]}\"] = subitem\n",
    "            items.append(key.split(\":\")[0])\n",
    "\n",
    "        response = json.dumps(items)\n",
    "        return response\n",
    "\n",
    "\n",
    "class SpecificDevice:\n",
    "    exposed = True\n",
    "\n",
    "    def GET(self, *path, **query):\n",
    "        pass\n"
   ]
  },
  {
   "cell_type": "code",
   "execution_count": 12,
   "metadata": {},
   "outputs": [
    {
     "name": "stderr",
     "output_type": "stream",
     "text": [
      "[16/Jan/2023:11:59:30] ENGINE Bus STARTING\n",
      "[16/Jan/2023:11:59:30] ENGINE Started monitor thread 'Autoreloader'.\n",
      "[16/Jan/2023:11:59:30] ENGINE Serving on http://0.0.0.0:8080\n",
      "[16/Jan/2023:11:59:30] ENGINE Bus STARTED\n"
     ]
    },
    {
     "name": "stdout",
     "output_type": "stream",
     "text": [
      "7\n",
      "127.0.0.1 - - [16/Jan/2023:11:59:33] \"GET /devices HTTP/1.1\" 200 118 \"\" \"Mozilla/5.0 (Windows NT 10.0; Win64; x64) AppleWebKit/537.36 (KHTML, like Gecko) Chrome/108.0.0.0 Safari/537.36\"\n"
     ]
    }
   ],
   "source": [
    "if __name__=='__main__':\n",
    "    conf = {'/': {'request.dispatch': cherrypy.dispatch.MethodDispatcher(), 'tools.sessions.on':True}}\n",
    "    cherrypy.tree.mount(Device(), '/devices', conf)\n",
    "    cherrypy.config.update({'server.socket_host': '0.0.0.0'})\n",
    "    cherrypy.config.update({'server.socket_port': 8080})\n",
    "    cherrypy.engine.start()\n",
    "    cherrypy.engine.block()"
   ]
  }
 ],
 "metadata": {
  "kernelspec": {
   "display_name": "ml4iotvenv",
   "language": "python",
   "name": "python3"
  },
  "language_info": {
   "codemirror_mode": {
    "name": "ipython",
    "version": 3
   },
   "file_extension": ".py",
   "mimetype": "text/x-python",
   "name": "python",
   "nbconvert_exporter": "python",
   "pygments_lexer": "ipython3",
   "version": "3.10.6"
  },
  "orig_nbformat": 4,
  "vscode": {
   "interpreter": {
    "hash": "071d9cde962c1d8db36b31f2a00230055ea835773bffc09cf085c2c7b5e7ea27"
   }
  }
 },
 "nbformat": 4,
 "nbformat_minor": 2
}
